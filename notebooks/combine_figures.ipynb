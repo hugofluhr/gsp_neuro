{
 "cells": [
  {
   "cell_type": "code",
   "execution_count": 7,
   "metadata": {},
   "outputs": [],
   "source": [
    "from PIL import Image\n",
    "from fpdf import FPDF\n",
    "import os\n",
    "from tqdm import tqdm"
   ]
  },
  {
   "cell_type": "code",
   "execution_count": 17,
   "metadata": {},
   "outputs": [],
   "source": [
    "def convert_images_to_pdf(image_folder, output_path):\n",
    "    # Get a list of all PNG files in the folder\n",
    "    image_files = [f for f in os.listdir(image_folder) if f.endswith('.png')]\n",
    "    image_files.sort()\n",
    "    pdf = FPDF()\n",
    "\n",
    "    for image_file in tqdm(image_files):\n",
    "        image_path = os.path.join(image_folder, image_file)\n",
    "        image = Image.open(image_path)\n",
    "\n",
    "        # Convert the image to PDF page size\n",
    "        pdf.add_page('L')\n",
    "        pdf.image(image_path, x=0, y=0, w=pdf.w)\n",
    "\n",
    "    # Save the PDF file\n",
    "    pdf.output(output_path, \"F\")\n",
    "    print(\"PDF generated successfully!\")"
   ]
  },
  {
   "cell_type": "code",
   "execution_count": 21,
   "metadata": {},
   "outputs": [
    {
     "name": "stderr",
     "output_type": "stream",
     "text": [
      "100%|██████████| 30/30 [00:07<00:00,  3.97it/s]\n"
     ]
    },
    {
     "name": "stdout",
     "output_type": "stream",
     "text": [
      "PDF generated successfully!\n"
     ]
    }
   ],
   "source": [
    "# Provide the path to the folder containing PNG files\n",
    "folder_path = \"/Users/hugofluhr/chuv/repositories/gsp_neuro/figures/sub01_harmonics_bin_lr/\"\n",
    "\n",
    "# Provide the path where the output PDF file will be saved\n",
    "output_path = \"/Users/hugofluhr/chuv/repositories/gsp_neuro/figures/all_weighted_harmonics_sub01.pdf\"\n",
    "\n",
    "# Call the function to convert images to PDF\n",
    "convert_images_to_pdf(folder_path, output_path)"
   ]
  },
  {
   "cell_type": "code",
   "execution_count": null,
   "metadata": {},
   "outputs": [],
   "source": []
  }
 ],
 "metadata": {
  "kernelspec": {
   "display_name": "gsp",
   "language": "python",
   "name": "python3"
  },
  "language_info": {
   "codemirror_mode": {
    "name": "ipython",
    "version": 3
   },
   "file_extension": ".py",
   "mimetype": "text/x-python",
   "name": "python",
   "nbconvert_exporter": "python",
   "pygments_lexer": "ipython3",
   "version": "3.11.0"
  },
  "orig_nbformat": 4
 },
 "nbformat": 4,
 "nbformat_minor": 2
}
