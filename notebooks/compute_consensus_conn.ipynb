{
 "cells": [
  {
   "cell_type": "code",
   "execution_count": 1,
   "metadata": {},
   "outputs": [],
   "source": [
    "import numpy as np\n",
    "from matplotlib import pyplot as plt\n",
    "import os  \n",
    "from glob import glob\n",
    "import sys \n",
    "import pygsp\n",
    "from importlib import reload\n",
    "from pathlib import Path\n",
    "import json\n",
    "from datetime import datetime\n",
    "\n",
    "\n",
    "from gsp_neuro import data_loading as dload\n",
    "from gsp_neuro import consensus_connectome as cconn"
   ]
  },
  {
   "cell_type": "code",
   "execution_count": 4,
   "metadata": {},
   "outputs": [],
   "source": [
    "data_base_dir = \"/Users/hugofluhr/chuv/data/BIOPSYCHO_CTRLS/\"\n",
    "subject_ids_lut = \"/Users/hugofluhr/chuv/data/Ids.csv\"\n",
    "subject_ids = [sub.get('subjID') for sub in dload.get_ids_csv(subject_ids_lut)]\n",
    "subject_folders = [subfolder for subfolder in glob(data_base_dir + \"sub-*\") if subfolder[-8:] in subject_ids]"
   ]
  },
  {
   "cell_type": "code",
   "execution_count": 8,
   "metadata": {},
   "outputs": [
    {
     "name": "stdout",
     "output_type": "stream",
     "text": [
      "----- Working on scale 1 -----\n",
      "      Coordinates loaded\n",
      "      66 connectomes found\n",
      "      Connectomes loaded\n",
      "      Saving....\n",
      "      Done! \n",
      "\n",
      "----- Working on scale 2 -----\n",
      "      Coordinates loaded\n",
      "      66 connectomes found\n",
      "      Connectomes loaded\n",
      "      Saving....\n",
      "      Done! \n",
      "\n",
      "----- Working on scale 3 -----\n",
      "      Coordinates loaded\n",
      "      66 connectomes found\n",
      "      Connectomes loaded\n",
      "      Saving....\n",
      "      Done! \n",
      "\n",
      "----- Working on scale 4 -----\n",
      "      Coordinates loaded\n",
      "      66 connectomes found\n",
      "      Connectomes loaded\n",
      "      Saving....\n",
      "      Done! \n",
      "\n",
      "----- Working on scale 5 -----\n",
      "      Coordinates loaded\n",
      "      66 connectomes found\n",
      "      Connectomes loaded\n",
      "      Saving....\n",
      "      Done! \n",
      "\n"
     ]
    }
   ],
   "source": [
    "nbins = 50\n",
    "for scale in [1, 2, 3, 4, 5] : \n",
    "    print(\"----- Working on scale {} -----\".format(scale))\n",
    "\n",
    "    df_coords = dload.read_coords(scale=scale)\n",
    "    coords = df_coords[['XCoord(mm)','YCoord(mm)','ZCoord(mm)']].to_numpy()\n",
    "    distances = cconn.distance_matrix(coords)\n",
    "    print('      Coordinates loaded')\n",
    "\n",
    "    connectomes_paths = dload.get_sub_connectomes_paths(subject_folders, scale = scale)\n",
    "    Nsub = len(connectomes_paths)\n",
    "    print('      {} connectomes found'.format(Nsub))\n",
    "\n",
    "    connectomes = np.zeros((distances.shape + (Nsub,)))\n",
    "    for i,conn_path in enumerate(connectomes_paths):\n",
    "        conn = dload.load_connectome(conn_path, field='fibDensity')\n",
    "        connectomes[...,i] = conn\n",
    "    print('      Connectomes loaded')\n",
    "\n",
    "    G, Gc, av_weight = cconn.fcn_group_bins(connectomes, distances, nbins=nbins)\n",
    "\n",
    "    print('      Saving....')\n",
    "    out_dir = os.path.join(data_base_dir,'consensus/')\n",
    "    if not os.path.isdir(out_dir):\n",
    "        os.mkdir(out_dir)\n",
    "    out_np_path = os.path.join(out_dir,\"consensus_scale{}.npz\".format(scale))\n",
    "    out_meta_path = os.path.join(out_dir,\"consensus_scale{}.json\".format(scale))\n",
    "\n",
    "    meta_data = {\"timestamp\":str(datetime.now()), \"nbins\":nbins,\"connectomes_used\":connectomes_paths}\n",
    "    with open(out_meta_path, \"w+\") as outfile:\n",
    "        json.dump(meta_data, outfile)\n",
    "\n",
    "    np.savez(out_np_path, G=G,Gc=Gc,av_weight=av_weight)\n",
    "    print('      Done! \\n')"
   ]
  },
  {
   "cell_type": "code",
   "execution_count": 83,
   "metadata": {},
   "outputs": [
    {
     "data": {
      "image/png": "[encoded data removed]",
      "text/plain": [
       "<Figure size 640x480 with 1 Axes>"
      ]
     },
     "metadata": {},
     "output_type": "display_data"
    }
   ],
   "source": [
    "plt.hist([distances[np.nonzero(G)], distances[np.nonzero(Gc)], distances[np.nonzero(connectomes[...,2])]])\n",
    "plt.legend(['distance based','avg based','example subject'])\n",
    "plt.title('Comparison of distance distributions for different methods')\n",
    "plt.show()"
   ]
  }
 ],
 "metadata": {
  "kernelspec": {
   "display_name": "gsp",
   "language": "python",
   "name": "python3"
  },
  "language_info": {
   "codemirror_mode": {
    "name": "ipython",
    "version": 3
   },
   "file_extension": ".py",
   "mimetype": "text/x-python",
   "name": "python",
   "nbconvert_exporter": "python",
   "pygments_lexer": "ipython3",
   "version": "3.11.0 | packaged by conda-forge | (main, Oct 25 2022, 06:21:25) [Clang 14.0.4 ]"
  },
  "orig_nbformat": 4,
  "vscode": {
   "interpreter": {
    "hash": "344309065a7b8323a53626e84f8a7a56fb2896813ca0810cb9da9272445a8c8d"
   }
  }
 },
 "nbformat": 4,
 "nbformat_minor": 2
}
