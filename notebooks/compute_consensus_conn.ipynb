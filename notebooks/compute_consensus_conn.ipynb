{
 "cells": [
  {
   "cell_type": "code",
   "execution_count": 10,
   "metadata": {},
   "outputs": [
    {
     "data": {
      "text/plain": [
       "<module 'consensus_connectome' from '/Users/hugofluhr/chuv/repositories/gsp_neuro/gsp_neuro/consensus_connectome.py'>"
      ]
     },
     "execution_count": 10,
     "metadata": {},
     "output_type": "execute_result"
    }
   ],
   "source": [
    "import numpy as np\n",
    "from matplotlib import pyplot as plt\n",
    "import os  \n",
    "from glob import glob\n",
    "import sys \n",
    "import pygsp\n",
    "from importlib import reload\n",
    "from pathlib import Path\n",
    "\n",
    "sys.path.append(\"/Users/hugofluhr/chuv/repositories/gsp_neuro/gsp_neuro\")\n",
    "import data_loading as dload\n",
    "reload(dload)\n",
    "import plotting as plot\n",
    "import consensus_connectome as cconn\n",
    "reload(cconn)"
   ]
  },
  {
   "cell_type": "code",
   "execution_count": 11,
   "metadata": {},
   "outputs": [],
   "source": [
    "data_base_dir = \"/Users/hugofluhr/chuv/data/BIOPSYCHO_CTRLS/\"\n",
    "subject_ids_lut = \"/Users/hugofluhr/chuv/data/Ids.csv\"\n",
    "subject_ids = [sub.get('subjID') for sub in dload.get_ids_csv(subject_ids_lut)]\n",
    "subject_folders = [subfolder for subfolder in glob(data_base_dir + \"sub-*\") if subfolder[-8:] in subject_ids]"
   ]
  },
  {
   "cell_type": "code",
   "execution_count": 16,
   "metadata": {},
   "outputs": [
    {
     "name": "stdout",
     "output_type": "stream",
     "text": [
      "----- Working on scale 3 -----\n",
      "      Coordinates loaded\n",
      "      66 connectomes found\n",
      "      Connectomes loaded\n",
      "      Done! \n",
      "\n"
     ]
    }
   ],
   "source": [
    "for scale in [3]:#, 2, 3, 4, 5] : \n",
    "    print(\"----- Working on scale {} -----\".format(scale))\n",
    "\n",
    "    df_coords = dload.read_coords(scale=scale)\n",
    "    coords = df_coords[['XCoord(mm)','YCoord(mm)','ZCoord(mm)']].to_numpy()\n",
    "    distances = cconn.distance_matrix(coords)\n",
    "    print('      Coordinates loaded')\n",
    "\n",
    "    connectomes_paths = dload.get_sub_connectomes_paths(subject_folders, scale = scale)\n",
    "    Nsub = len(connectomes_paths)\n",
    "    print('      {} connectomes found'.format(Nsub))\n",
    "\n",
    "    conn = dload.load_connectome(connectomes_paths[0])\n",
    "    connectomes = np.zeros((conn.shape + (Nsub,)))\n",
    "    for i,conn_path in enumerate(connectomes_paths[1:]):\n",
    "        conn = dload.load_connectome(conn_path, field='fibDensity')\n",
    "        connectomes[...,i+1] = conn\n",
    "    print('      Connectomes loaded')\n",
    "\n",
    "    G, Gc = cconn.fcn_group_bins(connectomes, distances, nbins=100)\n",
    "    print('      Done! \\n')"
   ]
  },
  {
   "cell_type": "code",
   "execution_count": null,
   "metadata": {},
   "outputs": [],
   "source": []
  }
 ],
 "metadata": {
  "kernelspec": {
   "display_name": "gsp",
   "language": "python",
   "name": "python3"
  },
  "language_info": {
   "codemirror_mode": {
    "name": "ipython",
    "version": 3
   },
   "file_extension": ".py",
   "mimetype": "text/x-python",
   "name": "python",
   "nbconvert_exporter": "python",
   "pygments_lexer": "ipython3",
   "version": "3.11.0"
  },
  "orig_nbformat": 4,
  "vscode": {
   "interpreter": {
    "hash": "344309065a7b8323a53626e84f8a7a56fb2896813ca0810cb9da9272445a8c8d"
   }
  }
 },
 "nbformat": 4,
 "nbformat_minor": 2
}
