{
 "cells": [
  {
   "cell_type": "code",
   "execution_count": 1,
   "metadata": {},
   "outputs": [
    {
     "name": "stderr",
     "output_type": "stream",
     "text": [
      "/home/localadmin/Installs/miniconda3/envs/hugo/lib/python3.8/site-packages/nilearn/datasets/__init__.py:93: FutureWarning: Fetchers from the nilearn.datasets module will be updated in version 0.9 to return python strings instead of bytes and Pandas dataframes instead of Numpy arrays.\n",
      "  warn(\"Fetchers from the nilearn.datasets module will be \"\n"
     ]
    }
   ],
   "source": [
    "import numpy as np\n",
    "from matplotlib import pyplot as plt\n",
    "import os  \n",
    "from glob import glob\n",
    "import sys \n",
    "import pygsp\n",
    "from importlib import reload\n",
    "from pathlib import Path\n",
    "\n",
    "sys.path.append(\"/home/localadmin/Bureau/HUGO/repositories/gsp_neuro/gsp_neuro\")\n",
    "import data_loading as dload\n",
    "reload(dload)\n",
    "import plotting as plot\n",
    "import consensus_connectome as cconn\n",
    "reload(cconn)"
   ]
  },
  {
   "cell_type": "code",
   "execution_count": 2,
   "metadata": {},
   "outputs": [],
   "source": [
    "data_base_dir = \"/home/localadmin/Bureau/HUGO/data/BIOPSYCHO_CTRLS/\"\n",
    "subject_ids_lut = \"/home/localadmin/Bureau/HUGO/Ids.csv\"\n",
    "subject_ids = [sub.get('subjID') for sub in dload.get_ids_csv(subject_ids_lut)]\n",
    "subject_folders = [subfolder for subfolder in glob(data_base_dir + \"sub-*\") if subfolder[-8:] in subject_ids]"
   ]
  },
  {
   "cell_type": "code",
   "execution_count": 3,
   "metadata": {},
   "outputs": [
    {
     "name": "stdout",
     "output_type": "stream",
     "text": [
      "----- Working on scale 3 -----\n",
      "      Coordinates loaded\n",
      "      66 connectomes found\n",
      "      Connectomes loaded\n",
      "      Done! \n",
      "\n"
     ]
    },
    {
     "data": {
      "text/plain": [
       "<matplotlib.image.AxesImage at 0x7f90d9f69f40>"
      ]
     },
     "execution_count": 3,
     "metadata": {},
     "output_type": "execute_result"
    },
    {
     "data": {
      "image/png": "[encoded data removed]",
      "text/plain": [
       "<Figure size 288x288 with 1 Axes>"
      ]
     },
     "metadata": {
      "needs_background": "light"
     },
     "output_type": "display_data"
    }
   ],
   "source": [
    "for scale in [3]:#, 2, 3, 4, 5] : \n",
    "    print(\"----- Working on scale {} -----\".format(scale))\n",
    "\n",
    "    df_coords = dload.read_coords(scale=scale)\n",
    "    coords = df_coords[['XCoord(mm)','YCoord(mm)','ZCoord(mm)']].to_numpy()\n",
    "    distances = cconn.distance_matrix(coords)\n",
    "    print('      Coordinates loaded')\n",
    "\n",
    "    connectomes_paths = dload.get_sub_connectomes_paths(subject_folders, scale = scale)\n",
    "    Nsub = len(connectomes_paths)\n",
    "    print('      {} connectomes found'.format(Nsub))\n",
    "\n",
    "    conn = dload.load_connectome(connectomes_paths[0])\n",
    "    connectomes = np.zeros((conn.shape + (Nsub,)))\n",
    "    for i,conn_path in enumerate(connectomes_paths[1:]):\n",
    "        conn = dload.load_connectome(conn_path, field='fibDensity')\n",
    "        connectomes[...,i+1] = conn\n",
    "    print('      Connectomes loaded')\n",
    "\n",
    "    G, Gc = cconn.fcn_group_bins(connectomes, distances, nbins=100)\n",
    "    print('      Done! \\n')"
   ]
  },
  {
   "cell_type": "code",
   "execution_count": null,
   "metadata": {},
   "outputs": [],
   "source": [
    "plt.matshow(connectomes.sum(axis=-1))"
   ]
  },
  {
   "cell_type": "code",
   "execution_count": null,
   "metadata": {},
   "outputs": [],
   "source": [
    "G = pygsp.graphs.Graph(G,lap_type='normalized')\n",
    "G.set_coordinates(kind=df_coords[['XCoord(mm)','YCoord(mm)','ZCoord(mm)']].to_numpy())"
   ]
  },
  {
   "cell_type": "code",
   "execution_count": null,
   "metadata": {},
   "outputs": [],
   "source": [
    "G.compute_fourier_basis()"
   ]
  },
  {
   "cell_type": "code",
   "execution_count": null,
   "metadata": {},
   "outputs": [],
   "source": [
    "G.plot(G.U[:,6], edges=False)"
   ]
  },
  {
   "cell_type": "code",
   "execution_count": null,
   "metadata": {},
   "outputs": [],
   "source": []
  }
 ],
 "metadata": {
  "kernelspec": {
   "display_name": "hugo",
   "language": "python",
   "name": "python3"
  },
  "language_info": {
   "codemirror_mode": {
    "name": "ipython",
    "version": 3
   },
   "file_extension": ".py",
   "mimetype": "text/x-python",
   "name": "python",
   "nbconvert_exporter": "python",
   "pygments_lexer": "ipython3",
   "version": "3.8.12"
  },
  "orig_nbformat": 4,
  "vscode": {
   "interpreter": {
    "hash": "bd6bbc7e53fe79676d92d4b3819959ad7fc61e5ab1b3d1211ba8ac709c7bb09e"
   }
  }
 },
 "nbformat": 4,
 "nbformat_minor": 2
}
