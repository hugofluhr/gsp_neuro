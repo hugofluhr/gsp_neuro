{
 "cells": [
  {
   "cell_type": "code",
   "execution_count": null,
   "metadata": {},
   "outputs": [],
   "source": [
    "from matplotlib import pyplot as plt\n",
    "\n",
    "from nilearn import plotting, datasets\n",
    "import nibabel as nb\n",
    "\n",
    "from gsp_neuro import data_loading as dload \n",
    "from gsp_neuro import utils as ut\n",
    "from gsp_neuro import plotting as viz\n",
    "from gsp_neuro import interactive\n",
    "from gsp_neuro.brain import Brain\n",
    "\n",
    "from importlib import reload\n",
    "reload(dload)\n",
    "reload(ut)\n",
    "reload(viz)\n",
    "reload(interactive)"
   ]
  },
  {
   "cell_type": "code",
   "execution_count": null,
   "metadata": {},
   "outputs": [],
   "source": [
    "data_base_directory = \"/Users/hugofluhr/chuv/data/\""
   ]
  },
  {
   "cell_type": "code",
   "execution_count": null,
   "metadata": {},
   "outputs": [],
   "source": [
    "subject_ids = dload.get_subjects(data_base_directory)"
   ]
  },
  {
   "cell_type": "code",
   "execution_count": null,
   "metadata": {},
   "outputs": [],
   "source": [
    "w_sub0 = interactive.select_subject(subject_ids)"
   ]
  },
  {
   "cell_type": "code",
   "execution_count": null,
   "metadata": {},
   "outputs": [],
   "source": [
    "subject = w_sub0.value\n",
    "print('Current subject is : {}'.format(subject))"
   ]
  },
  {
   "cell_type": "code",
   "execution_count": null,
   "metadata": {},
   "outputs": [],
   "source": [
    "w_scale = interactive.select_scale()"
   ]
  },
  {
   "cell_type": "code",
   "execution_count": null,
   "metadata": {},
   "outputs": [],
   "source": [
    "scale = w_scale.value\n",
    "print('Current scale is : {}'.format(scale))"
   ]
  },
  {
   "cell_type": "code",
   "execution_count": null,
   "metadata": {},
   "outputs": [],
   "source": [
    "brain = Brain(data_base_directory, subject, scale)"
   ]
  },
  {
   "cell_type": "code",
   "execution_count": null,
   "metadata": {},
   "outputs": [],
   "source": [
    "brain.load_graph()"
   ]
  },
  {
   "cell_type": "code",
   "execution_count": null,
   "metadata": {},
   "outputs": [],
   "source": [
    "brain.add_signal('thickness')\n",
    "brain.add_signal('pial_lgi')"
   ]
  },
  {
   "cell_type": "code",
   "execution_count": null,
   "metadata": {},
   "outputs": [],
   "source": [
    "#viz.plot_signal_2d(brain, 1)"
   ]
  },
  {
   "cell_type": "code",
   "execution_count": null,
   "metadata": {},
   "outputs": [],
   "source": [
    "consensus = Brain(data_base_directory, 'consensus', scale=2)\n",
    "consensus.load_graph()"
   ]
  },
  {
   "cell_type": "code",
   "execution_count": null,
   "metadata": {},
   "outputs": [],
   "source": [
    "reload(viz)\n",
    "viz.plot_signal_3d(consensus, 1, mesh_type='pial_whole', cmap=\"Spectral\", black_bg=False, title='Harmonic')"
   ]
  },
  {
   "cell_type": "code",
   "execution_count": null,
   "metadata": {},
   "outputs": [],
   "source": []
  },
  {
   "cell_type": "code",
   "execution_count": null,
   "metadata": {},
   "outputs": [],
   "source": [
    "reload(viz)\n",
    "p = viz.plot_connectome(consensus, thresh=96.6, output_file='/Users/hugofluhr/chuv/repositories/gsp_neuro/figures/connectome.svg')"
   ]
  },
  {
   "attachments": {},
   "cell_type": "markdown",
   "metadata": {},
   "source": [
    "## Arbitrary graph signal"
   ]
  },
  {
   "cell_type": "code",
   "execution_count": null,
   "metadata": {},
   "outputs": [],
   "source": [
    "import numpy as np\n",
    "from pygsp import graphs\n",
    "\n",
    "def plot_signal_on_pruned_graph(brain, signal, title=None):\n",
    "\n",
    "    small_graph = brain.G.subgraph(np.arange(68))\n",
    "    small_graph = graphs.Graph(\n",
    "        ut.prune_adjacency(small_graph.W.toarray(), 92),\n",
    "        coords=small_graph.coords[:, (1, 2)],\n",
    "    )\n",
    "    small_graph.plotting[\"edge_color\"] = (0.5, 0.5, 0.5, 1)\n",
    "\n",
    "    plt.set_cmap(\"plasma\")\n",
    "    fig_signal, ax = small_graph.plot(\n",
    "        brain.signals[signal][:68], edges=True, vertex_size=300, title=title\n",
    "    )\n",
    "    fig_signal.set_size_inches(8, 4)\n",
    "    plt.axis(\"off\")\n",
    "\n",
    "    return fig_signal"
   ]
  },
  {
   "cell_type": "code",
   "execution_count": null,
   "metadata": {},
   "outputs": [],
   "source": [
    "_ = plot_signal_on_pruned_graph(brain, 'thickness')"
   ]
  },
  {
   "attachments": {},
   "cell_type": "markdown",
   "metadata": {},
   "source": [
    "# Cortical Thickness"
   ]
  },
  {
   "cell_type": "code",
   "execution_count": null,
   "metadata": {},
   "outputs": [],
   "source": [
    "viz.plot_signal_3d(brain, 'pial_lgi', mesh_type='pial_whole', cmap=\"plasma\", black_bg=False, title='LGI', vmin=0, vmax=5)\n"
   ]
  },
  {
   "cell_type": "code",
   "execution_count": null,
   "metadata": {},
   "outputs": [],
   "source": [
    "sig = brain.get_signal('pial_lgi')"
   ]
  },
  {
   "cell_type": "code",
   "execution_count": null,
   "metadata": {},
   "outputs": [],
   "source": [
    "noise = np.random.normal(0, .5, sig.shape)\n",
    "noisy_sig = sig + noise"
   ]
  },
  {
   "cell_type": "code",
   "execution_count": null,
   "metadata": {},
   "outputs": [],
   "source": [
    "viz.plot_signal_3d(brain, noisy_sig, mesh_type='pial_whole', cmap=\"plasma\", black_bg=False, title='Noisy LGI', vmin=0, vmax=5)"
   ]
  },
  {
   "cell_type": "code",
   "execution_count": null,
   "metadata": {},
   "outputs": [],
   "source": [
    "fig, ax = plt.subplots(1,1, figsize=(5.5,4))\n",
    "viz.plot_spectrum(brain.G, sig, ax=ax)\n",
    "ax.set_title('Recovered Cortical Thickness')\n",
    "plt.show()"
   ]
  },
  {
   "cell_type": "code",
   "execution_count": null,
   "metadata": {},
   "outputs": [],
   "source": [
    "fig, ax = plt.subplots(1,1, figsize=(5.5,4))\n",
    "viz.plot_spectrum(brain.G, noisy_sig, ax=ax)\n",
    "ax.set_title('Recovered Cortical Thickness')\n",
    "plt.show()"
   ]
  },
  {
   "cell_type": "code",
   "execution_count": null,
   "metadata": {},
   "outputs": [],
   "source": [
    "def filter(G, sig, g):\n",
    "    f_hat = G.U.T@sig\n",
    "    return G.U@(g*f_hat)\n"
   ]
  },
  {
   "cell_type": "code",
   "execution_count": null,
   "metadata": {},
   "outputs": [],
   "source": [
    "lp = np.zeros((brain.G.N))\n",
    "lp[:50]=1.\n",
    "\n",
    "filtered_sig = filter(brain.G, noisy_sig, lp)"
   ]
  },
  {
   "cell_type": "code",
   "execution_count": null,
   "metadata": {},
   "outputs": [],
   "source": [
    "viz.plot_signal_3d(brain, 'pial_lgi', mesh_type='pial_whole', cmap=\"plasma\", black_bg=False, title='LGI', vmin=0, vmax=5)"
   ]
  },
  {
   "cell_type": "code",
   "execution_count": null,
   "metadata": {},
   "outputs": [],
   "source": [
    "viz.plot_signal_3d(brain, filtered_sig, mesh_type='pial_whole', cmap=\"plasma\", black_bg=False, title='Filtered Noisy LGI', vmin=0, vmax=5)"
   ]
  },
  {
   "cell_type": "code",
   "execution_count": null,
   "metadata": {},
   "outputs": [],
   "source": [
    "viz.plot_signal_3d(brain, noisy_sig, mesh_type='pial_whole', cmap=\"plasma\", black_bg=False, title='Noisy LGI', vmin=0, vmax=5)"
   ]
  },
  {
   "cell_type": "code",
   "execution_count": null,
   "metadata": {},
   "outputs": [],
   "source": []
  }
 ],
 "metadata": {
  "kernelspec": {
   "display_name": "gsp",
   "language": "python",
   "name": "python3"
  },
  "language_info": {
   "codemirror_mode": {
    "name": "ipython",
    "version": 3
   },
   "file_extension": ".py",
   "mimetype": "text/x-python",
   "name": "python",
   "nbconvert_exporter": "python",
   "pygments_lexer": "ipython3",
   "version": "3.11.0"
  },
  "orig_nbformat": 4,
  "vscode": {
   "interpreter": {
    "hash": "344309065a7b8323a53626e84f8a7a56fb2896813ca0810cb9da9272445a8c8d"
   }
  }
 },
 "nbformat": 4,
 "nbformat_minor": 2
}
