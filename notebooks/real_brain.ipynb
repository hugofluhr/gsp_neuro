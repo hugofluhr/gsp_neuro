{
 "cells": [
  {
   "attachments": {},
   "cell_type": "markdown",
   "metadata": {},
   "source": [
    "# Brains"
   ]
  },
  {
   "cell_type": "code",
   "execution_count": null,
   "metadata": {},
   "outputs": [],
   "source": [
    "from matplotlib import pyplot as plt\n",
    "import numpy as np\n",
    "import pandas as pd\n",
    "import seaborn as sns\n",
    "\n",
    "import sys\n",
    "sys.path.append('..')\n",
    "from gspneuro import data_loading as dload \n",
    "from gspneuro import plotting as viz\n",
    "from gspneuro import utils as ut\n",
    "from gspneuro.brain import Brain"
   ]
  },
  {
   "cell_type": "code",
   "execution_count": null,
   "metadata": {},
   "outputs": [],
   "source": [
    "data_base_directory = \"/Users/hugofluhr/chuv/data/\"\n",
    "subject_ids = dload.get_subjects(data_base_directory)\n",
    "# sub-349 has disconnected node at certain scales\n",
    "subject_ids.remove('sub-CHUVL349')\n",
    "\n",
    "scale = 3"
   ]
  },
  {
   "cell_type": "code",
   "execution_count": null,
   "metadata": {},
   "outputs": [],
   "source": [
    "consensus = Brain(data_base_directory, 'consensus_w', scale)\n",
    "consensus.load_graph()"
   ]
  },
  {
   "cell_type": "code",
   "execution_count": null,
   "metadata": {},
   "outputs": [],
   "source": [
    "def compute_smoothness(G, signal):\n",
    "    s = signal/np.amax(signal)\n",
    "    return s.T@G.L@s"
   ]
  },
  {
   "cell_type": "markdown",
   "metadata": {},
   "source": [
    "# Salience detector example"
   ]
  },
  {
   "cell_type": "code",
   "execution_count": null,
   "metadata": {},
   "outputs": [],
   "source": [
    "toy_x = np.zeros((consensus.G.N,))\n",
    "toy_x[49:53]=1\n",
    "toy_x[51]=0"
   ]
  },
  {
   "cell_type": "code",
   "execution_count": null,
   "metadata": {},
   "outputs": [],
   "source": [
    "viz.plot_signal_3d(consensus, toy_x, mesh_type='inflated_whole', cmap=\"plasma\", black_bg=False, title='Impulse Signal')"
   ]
  },
  {
   "cell_type": "code",
   "execution_count": null,
   "metadata": {},
   "outputs": [],
   "source": [
    "dx = consensus.G.L@toy_x\n",
    "\n",
    "viz.plot_signal_3d(consensus, abs(dx), mesh_type='inflated_whole', cmap=\"plasma\", black_bg=False, title='L @ x')"
   ]
  },
  {
   "cell_type": "markdown",
   "metadata": {},
   "source": [
    "# Reconstruction Example"
   ]
  },
  {
   "cell_type": "code",
   "execution_count": null,
   "metadata": {},
   "outputs": [],
   "source": [
    "brain = Brain(data_base_directory, subject_ids[1], scale)\n",
    "brain.load_graph(lap_type='normalized')\n",
    "brain.add_signal('thickness')\n",
    "brain.add_signal('pial_lgi')"
   ]
  },
  {
   "cell_type": "code",
   "execution_count": null,
   "metadata": {},
   "outputs": [],
   "source": [
    "viz.plot_signal_3d(brain, 'thickness', mesh_type='pial_whole', cmap=\"plasma\", black_bg=False, title='Cortical Thickness')\n"
   ]
  },
  {
   "cell_type": "code",
   "execution_count": null,
   "metadata": {},
   "outputs": [],
   "source": [
    "fig, ax = plt.subplots(1,1, figsize=(5.5,4))\n",
    "viz.plot_spectrum(brain.G,brain.get_signal('pial_lgi'),ax, no_dc=True)\n",
    "ax.set_title('Graph Fourier Transform of Local Gyrification Index')\n",
    "\n",
    "\n",
    "plt.show()\n",
    "#fig.savefig('../figures/thickness_gft.svg')"
   ]
  },
  {
   "cell_type": "code",
   "execution_count": null,
   "metadata": {},
   "outputs": [],
   "source": [
    "fig, ax = plt.subplots(1,1, figsize=(5.5,4))\n",
    "viz.plot_spectrum(brain.G,brain.get_signal('pial_lgi'),ax, no_dc=True)\n",
    "ax.set_title('Graph Fourier Transform of Local Gyrification Index')\n",
    "\n",
    "#stuff for figure\n",
    "N=brain.G.N\n",
    "lowpass= np.zeros((N,))\n",
    "lowpass[:30] = 5.4\n",
    "ax.plot(lowpass, label='lp')\n",
    "ax.legend(['Low pass filter'])\n",
    "\n",
    "plt.show()\n",
    "#fig.savefig('../figures/thickness_gft.svg')"
   ]
  },
  {
   "cell_type": "code",
   "execution_count": null,
   "metadata": {},
   "outputs": [],
   "source": [
    "fig, ax = plt.subplots(1,1, figsize=(5.5,4))\n",
    "viz.plot_spectrum(brain.G,brain.get_signal('pial_lgi'),ax, no_dc=True)\n",
    "ax.set_title('Graph Fourier Transform of Local Gyrification Index')\n",
    "\n",
    "#stuff for figure\n",
    "N=brain.G.N\n",
    "thresh_pos= 0.5*np.ones((N,))\n",
    "thresh_neg= -0.5*np.ones((N,))\n",
    "ax.plot(thresh_pos,'r', label='lp')\n",
    "ax.plot(thresh_neg,'r', label='lp',)\n",
    "ax.legend(['Threshold'])\n",
    "\n",
    "plt.show()\n",
    "#fig.savefig('../figures/thickness_gft.svg')"
   ]
  },
  {
   "cell_type": "code",
   "execution_count": null,
   "metadata": {},
   "outputs": [],
   "source": [
    "def lp(gft, n):\n",
    "    filtered = np.zeros_like(gft)\n",
    "    filtered[:n] = gft[:n]\n",
    "    return filtered"
   ]
  },
  {
   "cell_type": "code",
   "execution_count": null,
   "metadata": {},
   "outputs": [],
   "source": [
    "N = brain.G.N\n",
    "\n",
    "x_partial = []\n",
    "rec_errors = []\n",
    "for n in range(N+1):\n",
    "    lp_filtered = lp(x_hat,n)\n",
    "    #s_recons = consensus.G.igft(lp_filtered)\n",
    "    x_recons = brain.G.igft(lp_filtered)\n",
    "    x_partial.append(x_recons)\n",
    "    rec_errors.append(1-np.linalg.norm(x-x_recons)/np.linalg.norm(x))"
   ]
  },
  {
   "cell_type": "code",
   "execution_count": null,
   "metadata": {},
   "outputs": [],
   "source": [
    "fig, ax = plt.subplots(1,1, figsize=(5.5,4))\n",
    "ax.plot(100*np.array(rec_errors))\n",
    "ax.set_title('Recovered Cortical Thickness by Low-pass filtering')\n",
    "ax.set_ylabel('% of recovered signal')\n",
    "ax.set_xlabel('# of kept graph frequencies')\n",
    "plt.show()\n",
    "#fig.savefig('../figures/thick_recons.svg')"
   ]
  },
  {
   "cell_type": "code",
   "execution_count": null,
   "metadata": {},
   "outputs": [],
   "source": [
    "def thresh(gft, n):\n",
    "    if n==0:\n",
    "        return np.zeros_like(gft)\n",
    "    \n",
    "    a_gft = np.abs(gft)\n",
    "    sorted_indices = np.argsort(a_gft)[::-1]\n",
    "    t = a_gft[sorted_indices[n-1]]\n",
    "    m = a_gft<t\n",
    "    thresholded = np.copy(gft)\n",
    "    thresholded[m]=0.\n",
    "    return thresholded"
   ]
  },
  {
   "cell_type": "code",
   "execution_count": null,
   "metadata": {},
   "outputs": [],
   "source": [
    "N = brain.G.N\n",
    "\n",
    "x_partial = []\n",
    "rec_errors_thresh = []\n",
    "for n in range(N+1):\n",
    "    x_thresholded = thresh(x_hat,n)\n",
    "    #s_recons = consensus.G.igft(lp_filtered)\n",
    "    x_recons = brain.G.igft(x_thresholded)\n",
    "    x_partial.append(x_recons)\n",
    "    rec_errors_thresh.append(1-np.linalg.norm(x-x_recons)/np.linalg.norm(x))"
   ]
  },
  {
   "cell_type": "code",
   "execution_count": null,
   "metadata": {},
   "outputs": [],
   "source": [
    "fig, ax = plt.subplots(1,1, figsize=(5.5,4))\n",
    "ax.plot(100*np.array(rec_errors))\n",
    "ax.plot(100*np.array(rec_errors_thresh))\n",
    "ax.set_title('Recovered LGI')\n",
    "ax.set_ylabel('% of recovered signal')\n",
    "ax.set_xlabel('# of kept GFT coeffs')\n",
    "ax.legend(['Low-pass filtering', 'GFT coeffs thresholding'],loc=4)\n",
    "plt.show()\n",
    "#fig.savefig('../figures/thick_recons.svg')"
   ]
  },
  {
   "cell_type": "markdown",
   "metadata": {},
   "source": [
    "# Loading brains and signals"
   ]
  },
  {
   "cell_type": "code",
   "execution_count": null,
   "metadata": {},
   "outputs": [],
   "source": [
    "brains = [Brain(data_base_directory, sub, scale) for sub in subject_ids]"
   ]
  },
  {
   "cell_type": "code",
   "execution_count": null,
   "metadata": {},
   "outputs": [],
   "source": [
    "for brain in brains:\n",
    "    brain.load_graph()\n",
    "    brain.add_signal('thickness')\n",
    "    brain.add_signal('pial_lgi')"
   ]
  },
  {
   "attachments": {},
   "cell_type": "markdown",
   "metadata": {},
   "source": [
    "# Check how smooth a signal is on self brain vs other brains"
   ]
  },
  {
   "cell_type": "code",
   "execution_count": null,
   "metadata": {},
   "outputs": [],
   "source": [
    "signal = 'thickness'\n",
    "\n",
    "diffs = []\n",
    "for b_ref in brains:\n",
    "    ref_smoothness = compute_smoothness(b_ref.G, b_ref.get_signal(signal))\n",
    "    for b_comp in brains:\n",
    "        if b_comp == b_ref:\n",
    "            continue\n",
    "        diffs.append(compute_smoothness(b_comp.G, b_ref.get_signal(signal))-ref_smoothness)"
   ]
  },
  {
   "cell_type": "code",
   "execution_count": null,
   "metadata": {},
   "outputs": [],
   "source": [
    "plt.hist(diffs, bins=50)\n",
    "plt.show()"
   ]
  },
  {
   "cell_type": "code",
   "execution_count": null,
   "metadata": {},
   "outputs": [],
   "source": [
    "from scipy import stats \n",
    "\n",
    "t_statistic, p_value = stats.ttest_1samp(diffs, 0)\n",
    "\n",
    "# Print the p-value\n",
    "print(\"P-value:\", p_value)"
   ]
  },
  {
   "attachments": {},
   "cell_type": "markdown",
   "metadata": {},
   "source": [
    "# Compare smoothness of Thickness vs LGI"
   ]
  },
  {
   "cell_type": "code",
   "execution_count": null,
   "metadata": {},
   "outputs": [],
   "source": [
    "thick, lgi, diffs = [], [], []\n",
    "for b in brains:\n",
    "    thick_smoothness = compute_smoothness(b.G, b.get_signal('thickness'))\n",
    "    lgi_smoothness = compute_smoothness(b.G, b.get_signal('pial_lgi'))\n",
    "    thick.append(thick_smoothness)\n",
    "    lgi.append(lgi_smoothness)\n",
    "    diffs.append(thick_smoothness-lgi_smoothness)"
   ]
  },
  {
   "cell_type": "code",
   "execution_count": null,
   "metadata": {},
   "outputs": [],
   "source": [
    "t_statistic, p_value = stats.ttest_ind(thick, lgi)\n",
    "\n",
    "# Print the p-value\n",
    "print(\"P-value:\", p_value)"
   ]
  },
  {
   "cell_type": "code",
   "execution_count": null,
   "metadata": {},
   "outputs": [],
   "source": [
    "\n",
    "data = pd.DataFrame({'Measurement': ['Cortical Thickness'] * len(thick) + ['LGI'] * len(lgi),\n",
    "                     'Values': thick + lgi})"
   ]
  },
  {
   "cell_type": "code",
   "execution_count": null,
   "metadata": {},
   "outputs": [],
   "source": [
    "sns.boxplot(x='Measurement', y='Values', data=data)\n",
    "\n",
    "# Add labels and title\n",
    "plt.xlabel('')\n",
    "plt.ylabel('Smoothness on Connectome')\n",
    "plt.title('Comparison of Smoothness of different signals, p-val = {:.2e}'.format(p_value))\n",
    "\n",
    "# Show the plot\n",
    "#plt.savefig('../figures/boxplots_smoothness.svg')\n",
    "plt.show()"
   ]
  },
  {
   "attachments": {},
   "cell_type": "markdown",
   "metadata": {},
   "source": [
    "## Same on rewired graph"
   ]
  },
  {
   "cell_type": "code",
   "execution_count": null,
   "metadata": {},
   "outputs": [],
   "source": [
    "thick_ref, thick_rewired = [], []\n",
    "for b in brains:\n",
    "    thick_smoothness = compute_smoothness(b.G, b.get_signal('thickness'))\n",
    "    rewired_b = ut.rewire(b.G)\n",
    "    t_rew = compute_smoothness(rewired_b, b.get_signal('thickness'))\n",
    "    thick_ref.append(thick_smoothness)\n",
    "    thick_rewired.append(t_rew)"
   ]
  },
  {
   "cell_type": "code",
   "execution_count": null,
   "metadata": {},
   "outputs": [],
   "source": [
    "data = pd.DataFrame({'Measurement': ['Brain'] * len(thick_ref) + ['Rewired Brain'] * len(thick_rewired),\n",
    "                     'Values': thick_ref + thick_rewired})"
   ]
  },
  {
   "cell_type": "code",
   "execution_count": null,
   "metadata": {},
   "outputs": [],
   "source": [
    "sns.boxplot(x='Measurement', y='Values', data=data)\n",
    "\n",
    "# Add labels and title\n",
    "plt.xlabel('')\n",
    "plt.ylabel('Smoothness on Connectome')\n",
    "plt.title('Comparison of Smoothness on different Graphs')\n",
    "\n",
    "# Show the plot\n",
    "#plt.savefig('../figures/boxplots_smoothness.svg')\n",
    "plt.show()"
   ]
  },
  {
   "attachments": {},
   "cell_type": "markdown",
   "metadata": {},
   "source": [
    "# Cortical Thickness"
   ]
  },
  {
   "cell_type": "code",
   "execution_count": null,
   "metadata": {},
   "outputs": [],
   "source": [
    "len(brains)"
   ]
  },
  {
   "cell_type": "code",
   "execution_count": null,
   "metadata": {},
   "outputs": [],
   "source": [
    "fig, ax = plt.subplots(1,1, figsize=(5.5,4))\n",
    "viz.plot_spectrum(brain.G,brain.get_signal('pial_lgi'),ax)\n",
    "ax.set_title('Graph Fourier Transform of LGI')\n",
    "ax.set_ylim([-4,4])\n",
    "#fig.savefig('../figures/lgi_gft.svg')\n"
   ]
  },
  {
   "cell_type": "code",
   "execution_count": null,
   "metadata": {},
   "outputs": [],
   "source": [
    "viz.plot_signal_3d(brain, 'thickness', mesh_type='pial_whole', cmap=\"plasma\", black_bg=False, title='Cortical Thickness [mm]')\n"
   ]
  },
  {
   "cell_type": "code",
   "execution_count": null,
   "metadata": {},
   "outputs": [],
   "source": [
    "fig, ax = plt.subplots(1,1, figsize=(5.5,4))\n",
    "viz.plot_spectrum(consensus.G,brain.get_signal('thickness'),ax)\n",
    "ax.set_title('Graph Fourier Transform of Cortical Thickness')\n",
    "#fig.savefig('../figures/thickness_gft.svg')\n"
   ]
  },
  {
   "cell_type": "code",
   "execution_count": null,
   "metadata": {},
   "outputs": [],
   "source": [
    "n_comp = 1\n",
    "s = brain.get_signal('thickness')\n",
    "#s_hat = consensus.G.gft(s)\n",
    "s_hat = brain.G.gft(s)"
   ]
  },
  {
   "cell_type": "code",
   "execution_count": null,
   "metadata": {},
   "outputs": [],
   "source": [
    "def lp(gft, n):\n",
    "    filtered = np.zeros_like(gft)\n",
    "    filtered[:n] = gft[:n]\n",
    "    return filtered"
   ]
  },
  {
   "cell_type": "code",
   "execution_count": null,
   "metadata": {},
   "outputs": [],
   "source": [
    "N = consensus.G.N"
   ]
  },
  {
   "cell_type": "code",
   "execution_count": null,
   "metadata": {},
   "outputs": [],
   "source": [
    "lp(s_hat, 0)"
   ]
  },
  {
   "cell_type": "code",
   "execution_count": null,
   "metadata": {},
   "outputs": [],
   "source": [
    "s_partial = []\n",
    "rec_errors = []\n",
    "for n in range(N):\n",
    "    lp_filtered = lp(s_hat,n)\n",
    "    #s_recons = consensus.G.igft(lp_filtered)\n",
    "    s_recons = brain.G.igft(lp_filtered)\n",
    "    s_partial.append(s_recons)\n",
    "    rec_errors.append(1-np.linalg.norm(s-s_recons)/np.linalg.norm(s))"
   ]
  },
  {
   "cell_type": "code",
   "execution_count": null,
   "metadata": {},
   "outputs": [],
   "source": [
    "fig, ax = plt.subplots(1,1, figsize=(5.5,4))\n",
    "ax.plot(100*np.array(rec_errors))\n",
    "ax.set_title('Recovered Cortical Thickness')\n",
    "ax.set_ylabel('% of recovered signal')\n",
    "ax.set_xlabel('# of kept graph frequencies')\n",
    "plt.show()\n",
    "#fig.savefig('../figures/thick_recons.svg')"
   ]
  },
  {
   "cell_type": "code",
   "execution_count": null,
   "metadata": {},
   "outputs": [],
   "source": [
    "from nilearn import datasets\n",
    "fsaverage = datasets.fetch_surf_fsaverage(mesh=\"fsaverage\")\n"
   ]
  },
  {
   "cell_type": "code",
   "execution_count": null,
   "metadata": {},
   "outputs": [],
   "source": [
    "fsaverage.keys()"
   ]
  },
  {
   "cell_type": "code",
   "execution_count": null,
   "metadata": {},
   "outputs": [],
   "source": [
    "from importlib import reload\n",
    "reload(viz)\n",
    "\n",
    "viz.plot_signal_2d_mini(brain, s, outpath='/Users/hugofluhr/chuv/repositories/gsp_neuro/figures/real_brain/consensus_2.svg')"
   ]
  },
  {
   "cell_type": "code",
   "execution_count": null,
   "metadata": {},
   "outputs": [],
   "source": [
    "viz.plot_signal_3d(brain, s, mesh_type='pial_whole', cmap=\"plasma\", black_bg=False, title='Cortical Thickness [mm]', vmin=0, vmax=3.5)"
   ]
  },
  {
   "cell_type": "code",
   "execution_count": null,
   "metadata": {},
   "outputs": [],
   "source": [
    "n_comp = 65\n",
    "viz.plot_signal_3d(brain, s_partial[n_comp], mesh_type='pial_whole', cmap=\"plasma\", black_bg=False, title='# Components = {}'.format(n_comp), vmin=0, vmax=3.5)"
   ]
  },
  {
   "cell_type": "code",
   "execution_count": null,
   "metadata": {},
   "outputs": [],
   "source": [
    "def eigen_reconstruction(G, signal, n):\n",
    "    assert(n<=G.N)\n",
    "    approx = np.zeros_like(G.L.toarray())\n",
    "\n",
    "    for i in range(1,n):\n",
    "        approx += G.e[i] * np.outer(G.U[:,i],G.U[:,i])\n",
    "\n",
    "    error = np.linalg.norm(G.L - approx)/np.linalg.norm(G.L.toarray()) * 100\n",
    "    fig, axs = plt.subplots(1,3, figsize=(15,6))\n",
    "    mat = axs[0].matshow(G.e[n-1] * np.outer(G.U[:,n-1],G.U[:,n-1]))\n",
    "    axs[0].set_title('Outer product of {}th eigenvector'.format(n))\n",
    "    fig.colorbar(mat, ax=axs[0])\n",
    "\n",
    "    mat = axs[1].matshow(approx)\n",
    "    axs[1].set_title('Cumulative Reconstruction, error = {:.1f}%'.format(error))\n",
    "    axs[1].axis(False)\n",
    "    fig.colorbar(mat, ax=axs[1])\n",
    "    axs[2].matshow(G.L.toarray())\n",
    "    axs[2].set_title(\"Laplacian of the Graph\")\n",
    "    axs[2].axis(False)\n",
    "    plt.show()"
   ]
  },
  {
   "cell_type": "code",
   "execution_count": null,
   "metadata": {},
   "outputs": [],
   "source": [
    "lp = np.zeros((N))\n",
    "lp[:20]=1.\n",
    "hp = np.zeros((N))\n",
    "hp[40:]=1.\n",
    "heat = np.exp(-3*np.arange(N)/N)"
   ]
  },
  {
   "cell_type": "code",
   "execution_count": null,
   "metadata": {},
   "outputs": [],
   "source": [
    "fig, ax = plt.subplots(1,1, figsize=(5.5,4))\n",
    "ax.plot(lp)\n",
    "ax.plot(hp)\n",
    "ax.plot(heat)\n",
    "ax.legend(['Low-Pass','High-Pass','Heat kernel'])\n",
    "ax.set_title('Filters in Frequency domain')\n",
    "ax.set_ylabel('GFT coefficients')\n",
    "ax.set_xlabel('Graph Frequency Index')\n",
    "plt.show()\n",
    "#fig.savefig('../figures/filters.svg')"
   ]
  }
 ],
 "metadata": {
  "kernelspec": {
   "display_name": "gsp",
   "language": "python",
   "name": "python3"
  },
  "language_info": {
   "codemirror_mode": {
    "name": "ipython",
    "version": 3
   },
   "file_extension": ".py",
   "mimetype": "text/x-python",
   "name": "python",
   "nbconvert_exporter": "python",
   "pygments_lexer": "ipython3",
   "version": "3.12.1"
  },
  "orig_nbformat": 4
 },
 "nbformat": 4,
 "nbformat_minor": 2
}
