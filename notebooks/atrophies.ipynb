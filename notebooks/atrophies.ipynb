{
 "cells": [
  {
   "cell_type": "code",
   "execution_count": null,
   "metadata": {},
   "outputs": [],
   "source": [
    "from matplotlib import pyplot as plt\n",
    "import numpy as np\n",
    "import seaborn as sns\n",
    "from sklearn.decomposition import PCA\n",
    "\n",
    "import sys\n",
    "sys.path.append('..')\n",
    "from gspneuro import data_loading as dload \n",
    "from gspneuro import plotting as viz\n",
    "from gspneuro.brain import Brain"
   ]
  },
  {
   "cell_type": "code",
   "execution_count": null,
   "metadata": {},
   "outputs": [],
   "source": [
    "# paths and loading subjects IDs\n",
    "data_base_dir = \"/Users/hugofluhr/chuv/data/\"\n",
    "\n",
    "healthy_ids = dload.get_subjects(data_base_dir)\n",
    "atrophy_ids = dload.get_atrophies_subjects()"
   ]
  },
  {
   "cell_type": "code",
   "execution_count": null,
   "metadata": {},
   "outputs": [],
   "source": [
    "atrophy_ids"
   ]
  },
  {
   "cell_type": "code",
   "execution_count": null,
   "metadata": {},
   "outputs": [],
   "source": [
    "atrophy_info = dload.load_patient_infos()\n",
    "id2diag={patient.get(\"id\"):patient.get(\"diagnostic\") for patient in atrophy_info}"
   ]
  },
  {
   "cell_type": "code",
   "execution_count": null,
   "metadata": {},
   "outputs": [],
   "source": [
    "id2diag"
   ]
  },
  {
   "cell_type": "code",
   "execution_count": null,
   "metadata": {},
   "outputs": [],
   "source": [
    "# Parameters\n",
    "scale = 1\n",
    "consensus_type = 'consensus_bin'\n"
   ]
  },
  {
   "cell_type": "code",
   "execution_count": null,
   "metadata": {},
   "outputs": [],
   "source": [
    "healthy_thickness = [dload.get_signal(data_base_dir, healthy_subj, 'thickness', scale=scale) for healthy_subj in healthy_ids]\n",
    "atrophy_thickness = [dload.get_atrophy_signal(atrophy_subj, scale=scale) for atrophy_subj in atrophy_ids]"
   ]
  },
  {
   "cell_type": "code",
   "execution_count": null,
   "metadata": {},
   "outputs": [],
   "source": [
    "len(healthy_ids)"
   ]
  },
  {
   "cell_type": "code",
   "execution_count": null,
   "metadata": {},
   "outputs": [],
   "source": [
    "consensus = Brain(data_base_dir, consensus_type, scale)\n",
    "consensus.load_graph()"
   ]
  },
  {
   "cell_type": "code",
   "execution_count": null,
   "metadata": {},
   "outputs": [],
   "source": [
    "avg_healthy_thick=np.stack(healthy_thickness).mean(axis=0)"
   ]
  },
  {
   "cell_type": "markdown",
   "metadata": {},
   "source": [
    "# GFT of Thickness"
   ]
  },
  {
   "cell_type": "code",
   "execution_count": null,
   "metadata": {},
   "outputs": [],
   "source": [
    "gft_controls = np.stack([consensus.G.gft(s) for s in healthy_thickness])\n",
    "gft_atrophies = np.stack([consensus.G.gft(s) for s in atrophy_thickness])\n",
    "\n",
    "avg_gft = gft_controls.mean(axis=0)"
   ]
  },
  {
   "cell_type": "code",
   "execution_count": null,
   "metadata": {},
   "outputs": [],
   "source": [
    "# X = np.stack(gft_atrophies)\n",
    "# pca = PCA(n_components=2)\n",
    "# reduced_data = pca.fit_transform(X)\n",
    "\n",
    "# for i, sub in enumerate(atrophy_info):\n",
    "#     plt.scatter(reduced_data[i, 0], reduced_data[i, 1], label=sub.get('diagnostic'))\n",
    "# plt.legend()\n",
    "# plt.show()"
   ]
  },
  {
   "cell_type": "code",
   "execution_count": null,
   "metadata": {},
   "outputs": [],
   "source": [
    "fig, axs = plt.subplots(2,3, figsize=(12,6))\n",
    "for ax, s, subID in zip(axs.flat, atrophy_thickness, atrophy_ids):\n",
    "    viz.plot_spectrum(consensus.G, s, ax, no_dc=True)\n",
    "    ax.set_title(id2diag.get(subID))\n",
    "    \n",
    "fig.tight_layout()\n",
    "plt.show()"
   ]
  },
  {
   "cell_type": "code",
   "execution_count": null,
   "metadata": {},
   "outputs": [],
   "source": [
    "fig, axs = plt.subplots(1,2, figsize=(12,5))\n",
    "axs[0].plot(np.stack(healthy_thickness).T, alpha=.3)\n",
    "axs[0].set_title('Healthy thicknesses')\n",
    "axs[1].plot(np.stack(atrophy_thickness).T, alpha=.6)\n",
    "axs[1].set_title('Atrophied thicknesses')\n",
    "plt.show()"
   ]
  },
  {
   "cell_type": "code",
   "execution_count": null,
   "metadata": {},
   "outputs": [],
   "source": []
  },
  {
   "cell_type": "code",
   "execution_count": null,
   "metadata": {},
   "outputs": [],
   "source": [
    "subset=[1,5]\n",
    "fig, axs = plt.subplots(1,2, figsize=(12,5))\n",
    "axs[0].plot(np.stack(gft_controls).T[1:20,:], alpha=.3)\n",
    "#axs[0].plot(np.stack(gft_controls).T, alpha=.3)\n",
    "\n",
    "axs[0].set_title('Healthy thicknesses GFTs')\n",
    "axs[0].set_xticks(np.arange(19))\n",
    "axs[0].set_xticklabels(np.arange(19)+1)\n",
    "axs[0].grid(axis='x')\n",
    "axs[1].plot(np.stack(gft_atrophies).T[1:20,subset]-np.stack([avg_gft[1:20] for _ in range(len(subset))]).T, alpha=.8)\n",
    "#axs[1].plot(np.stack(gft_atrophies).T[1:40,:], alpha=.8)\n",
    "\n",
    "axs[1].set_title('Atrophied thicknesses GFTs')\n",
    "#axs[1].legend([id2diag.get(id) for id in atrophy_ids])\n",
    "axs[1].set_xticks(np.arange(19))\n",
    "axs[1].set_xticklabels(np.arange(19)+1)\n",
    "#axs[1].set_ylim([-2.4,2.4])\n",
    "axs[1].grid(axis='x')\n",
    "plt.show()"
   ]
  },
  {
   "cell_type": "code",
   "execution_count": null,
   "metadata": {},
   "outputs": [],
   "source": []
  },
  {
   "cell_type": "code",
   "execution_count": null,
   "metadata": {},
   "outputs": [],
   "source": [
    "# compute mean gft of thickness for controls\n",
    "mean_gft = gft_controls.mean(axis=0)\n",
    "std_gft = gft_controls.std(axis=0)"
   ]
  },
  {
   "cell_type": "code",
   "execution_count": null,
   "metadata": {},
   "outputs": [],
   "source": [
    "ids_diff = []\n",
    "for s in gft_atrophies:\n",
    "    diff = np.abs(s-mean_gft)\n",
    "    diff = diff[1:]\n",
    "    ids_diff.append(diff.argsort()[-10:][::-1]+1)\n",
    "    "
   ]
  },
  {
   "cell_type": "code",
   "execution_count": null,
   "metadata": {},
   "outputs": [],
   "source": [
    "ids_diff"
   ]
  },
  {
   "cell_type": "code",
   "execution_count": null,
   "metadata": {},
   "outputs": [],
   "source": [
    "atrophy_ids"
   ]
  },
  {
   "cell_type": "code",
   "execution_count": null,
   "metadata": {},
   "outputs": [],
   "source": [
    "i=-3\n",
    "viz.plot_signal_3d(consensus, atrophy_thickness[i]-avg_healthy_thick, mesh_type='pial_whole', cmap=\"Spectral\", black_bg=False, title=str(atrophy_ids[i]))"
   ]
  },
  {
   "cell_type": "code",
   "execution_count": null,
   "metadata": {},
   "outputs": [],
   "source": [
    "i = 3\n",
    "viz.plot_signal_3d(consensus, i, mesh_type='pial_whole', cmap=\"Spectral\", black_bg=False, title='eigenmode {}'.format(i))"
   ]
  },
  {
   "cell_type": "code",
   "execution_count": null,
   "metadata": {},
   "outputs": [],
   "source": [
    "fig, axs = plt.subplots(2,3, figsize=(12,6))\n",
    "for ax, s_hat, subID in zip(axs.flat, gft_atrophies, atrophy_ids):\n",
    "    ax.stem(x, np.abs(s_hat-mean_gft)[1:], markerfmt='')\n",
    "    ax.set_title(subID)\n",
    "    \n",
    "fig.tight_layout()\n",
    "plt.show()"
   ]
  },
  {
   "cell_type": "markdown",
   "metadata": {},
   "source": [
    "# Smoothness"
   ]
  },
  {
   "cell_type": "code",
   "execution_count": null,
   "metadata": {},
   "outputs": [],
   "source": [
    "def compute_smoothness(signal):\n",
    "    s = signal/np.amax(signal)\n",
    "    return s.T@consensus.G.L@s"
   ]
  },
  {
   "cell_type": "code",
   "execution_count": null,
   "metadata": {},
   "outputs": [],
   "source": [
    "thick_healthy = []\n",
    "for t in healthy_thickness:\n",
    "    thick_smoothness = compute_smoothness(t)\n",
    "    thick_healthy.append(thick_smoothness)"
   ]
  },
  {
   "cell_type": "code",
   "execution_count": null,
   "metadata": {},
   "outputs": [],
   "source": [
    "thick_atrophy = []\n",
    "for t in atrophy_thickness:\n",
    "    thick_smoothness = compute_smoothness(t)\n",
    "    thick_atrophy.append(thick_smoothness)"
   ]
  },
  {
   "cell_type": "code",
   "execution_count": null,
   "metadata": {},
   "outputs": [],
   "source": [
    "# Create a violin plot for the first list\n",
    "# Create a swarm plot for the second list\n",
    "fig, ax = plt.subplots()\n",
    "\n",
    "sns.violinplot(y=thick_healthy)\n",
    "sns.swarmplot(y=thick_atrophy, color='red', size=10)\n",
    "ax.set_ylim(1.5,2.8)\n",
    "\n",
    "# Optionally, set the title and labels for the axes\n",
    "plt.ylabel('Thickness')\n",
    "\n",
    "# Show the plot\n",
    "plt.show()"
   ]
  }
 ],
 "metadata": {
  "kernelspec": {
   "display_name": "gsp",
   "language": "python",
   "name": "python3"
  },
  "language_info": {
   "codemirror_mode": {
    "name": "ipython",
    "version": 3
   },
   "file_extension": ".py",
   "mimetype": "text/x-python",
   "name": "python",
   "nbconvert_exporter": "python",
   "pygments_lexer": "ipython3",
   "version": "3.12.1"
  }
 },
 "nbformat": 4,
 "nbformat_minor": 2
}
